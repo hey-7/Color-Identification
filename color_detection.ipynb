{
 "cells": [
  {
   "cell_type": "markdown",
   "id": "11144a2a",
   "metadata": {},
   "source": [
    "# Color Identification in Images"
   ]
  },
  {
   "cell_type": "raw",
   "id": "2ae85a06",
   "metadata": {},
   "source": [
    "Implementation of an image color detector which identifies all the colors in an image or video."
   ]
  },
  {
   "cell_type": "markdown",
   "id": "b25c83fe",
   "metadata": {},
   "source": [
    "## Importing required libraries"
   ]
  },
  {
   "cell_type": "code",
   "execution_count": 1,
   "id": "d436ef78",
   "metadata": {},
   "outputs": [],
   "source": [
    "import cv2\n",
    "import pandas as pd"
   ]
  },
  {
   "cell_type": "markdown",
   "id": "c0017675",
   "metadata": {},
   "source": [
    "## Reading files"
   ]
  },
  {
   "cell_type": "code",
   "execution_count": 8,
   "id": "aaa4a2b9",
   "metadata": {},
   "outputs": [],
   "source": [
    "img_path = 'pic4.jpg'\n",
    "csv_path = 'colors.csv'\n",
    "\n",
    "# reading csv file\n",
    "index = ['color', 'color_name', 'hex', 'R', 'G', 'B']\n",
    "df = pd.read_csv(csv_path, names=index, header=None)\n",
    "\n",
    "# reading and resizing image\n",
    "img = cv2.imread(img_path)\n",
    "img = cv2.resize(img, (800,600))"
   ]
  },
  {
   "cell_type": "code",
   "execution_count": 9,
   "id": "84447590",
   "metadata": {},
   "outputs": [],
   "source": [
    "#declaring global variables\n",
    "clicked = False\n",
    "r = g = b = xpos = ypos = 0"
   ]
  },
  {
   "cell_type": "markdown",
   "id": "c243c636",
   "metadata": {},
   "source": [
    "## Defining function for getting color name"
   ]
  },
  {
   "cell_type": "code",
   "execution_count": 10,
   "id": "a47202aa",
   "metadata": {},
   "outputs": [],
   "source": [
    "#function to calculate minimum distance from all colors and get the most matching color\n",
    "def get_color_name(R,G,B):\n",
    "    minimum = 1000\n",
    "    for i in range(len(df)):\n",
    "        d = abs(R - int(df.loc[i,'R'])) + abs(G - int(df.loc[i,'G'])) + abs(B - int(df.loc[i,'B']))\n",
    "        if d <= minimum:\n",
    "            minimum = d\n",
    "            cname = df.loc[i, 'color_name']\n",
    "\n",
    "    return cname"
   ]
  },
  {
   "cell_type": "markdown",
   "id": "8cf44e31",
   "metadata": {},
   "source": [
    "## Function for handling mouse events"
   ]
  },
  {
   "cell_type": "code",
   "execution_count": 11,
   "id": "685e08d5",
   "metadata": {},
   "outputs": [],
   "source": [
    "#function to get x,y coordinates of mouse double click\n",
    "def draw_function(event, x, y, flags, params):\n",
    "    if event == cv2.EVENT_LBUTTONDBLCLK:\n",
    "        global b, g, r, xpos, ypos, clicked\n",
    "        clicked = True\n",
    "        xpos = x\n",
    "        ypos = y\n",
    "        b,g,r = img[y,x]\n",
    "        b = int(b)\n",
    "        g = int(g)\n",
    "        r = int(r)"
   ]
  },
  {
   "cell_type": "markdown",
   "id": "17ae0309",
   "metadata": {},
   "source": [
    "## Creating and Displaying window with color name and its RGB values after double clicking it"
   ]
  },
  {
   "cell_type": "code",
   "execution_count": 12,
   "id": "71a6aaba",
   "metadata": {},
   "outputs": [],
   "source": [
    "# creating window\n",
    "cv2.namedWindow('image')\n",
    "cv2.setMouseCallback('image', draw_function)"
   ]
  },
  {
   "cell_type": "code",
   "execution_count": 13,
   "id": "00b1d9e0",
   "metadata": {},
   "outputs": [],
   "source": [
    "while True:\n",
    "    cv2.imshow('image', img)\n",
    "    if clicked:\n",
    "        #-1 fills entire rectangle \n",
    "        cv2.rectangle(img, (20,20), (600,60), (b,g,r), -1)\n",
    "\n",
    "        #string to display( Color name and RGB values )\n",
    "        text = get_color_name(r,g,b) + ' R=' + str(r) + ' G=' + str(g) + ' B=' + str(b)\n",
    "        cv2.putText(img, text, (50,50), 2,0.8, (255,255,255),2,cv2.LINE_AA)\n",
    "\n",
    "        #For very light colours we will display text in black colour\n",
    "        if r+g+b >=600:\n",
    "            cv2.putText(img, text, (50,50), 2,0.8, (0,0,0),2,cv2.LINE_AA)\n",
    "\n",
    "    if cv2.waitKey(20) & 0xFF == 27:\n",
    "        break\n",
    "\n",
    "cv2.destroyAllWindows()"
   ]
  },
  {
   "cell_type": "code",
   "execution_count": null,
   "id": "fe8a84e4",
   "metadata": {},
   "outputs": [],
   "source": []
  }
 ],
 "metadata": {
  "kernelspec": {
   "display_name": "Python 3",
   "language": "python",
   "name": "python3"
  },
  "language_info": {
   "codemirror_mode": {
    "name": "ipython",
    "version": 3
   },
   "file_extension": ".py",
   "mimetype": "text/x-python",
   "name": "python",
   "nbconvert_exporter": "python",
   "pygments_lexer": "ipython3",
   "version": "3.8.8"
  }
 },
 "nbformat": 4,
 "nbformat_minor": 5
}
